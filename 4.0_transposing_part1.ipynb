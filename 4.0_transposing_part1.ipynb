{
 "cells": [
  {
   "cell_type": "markdown",
   "metadata": {},
   "source": [
    "# Transposing data of genre, actors, directors and writers\n",
    "### Why? - To simplify the work in Tableau"
   ]
  },
  {
   "cell_type": "code",
   "execution_count": 12,
   "metadata": {},
   "outputs": [],
   "source": [
    "# import all packages\n",
    "import pandas as pd\n",
    "import numpy as np\n",
    "import psycopg2 as psycopg2\n",
    "import sql_functions as sqlf\n",
    "import string as string"
   ]
  },
  {
   "cell_type": "code",
   "execution_count": 13,
   "metadata": {},
   "outputs": [],
   "source": [
    "# pd.set_option(\"display.max.columns\", 264)"
   ]
  },
  {
   "cell_type": "code",
   "execution_count": 14,
   "metadata": {},
   "outputs": [],
   "source": [
    "schema = \"capstone_24_4_group1\""
   ]
  },
  {
   "cell_type": "code",
   "execution_count": 15,
   "metadata": {},
   "outputs": [],
   "source": [
    "imdb_query = f'''   SELECT *\n",
    "                    FROM {schema}.\"IMDB_data\"\n",
    "                    '''"
   ]
  },
  {
   "cell_type": "code",
   "execution_count": 16,
   "metadata": {},
   "outputs": [],
   "source": [
    "imdb_df = sqlf.get_dataframe(imdb_query)"
   ]
  },
  {
   "cell_type": "code",
   "execution_count": null,
   "metadata": {},
   "outputs": [],
   "source": [
    "imdb_df.head(3)"
   ]
  },
  {
   "cell_type": "markdown",
   "metadata": {},
   "source": [
    "## Transposing actors"
   ]
  },
  {
   "cell_type": "code",
   "execution_count": 34,
   "metadata": {},
   "outputs": [],
   "source": [
    "imdb_actors = imdb_df[[\"tconst\", \"acting\", \"acting2\", \"acting3\", \"acting4\", \"acting5\"]]\n",
    "\n",
    "df_melted_actors = pd.melt(imdb_actors, id_vars=['tconst'], value_vars=[\"acting\", \"acting2\", \"acting3\", \"acting4\", \"acting5\"],\n",
    "                    var_name='Spalte', value_name='actor')\n",
    "\n",
    "df_melted_actors = df_melted_actors[[\"tconst\",\"actor\"]]\n",
    "df_melted_actors.head(3)\n",
    "\n",
    "df_actors = df_melted_actors"
   ]
  },
  {
   "cell_type": "markdown",
   "metadata": {},
   "source": [
    "## Transposing genres"
   ]
  },
  {
   "cell_type": "code",
   "execution_count": 48,
   "metadata": {},
   "outputs": [],
   "source": [
    "imdb_genres = imdb_df[[\"tconst\", \"genre\",\t\"genre2\", \"genre3\"]]\n",
    "\n",
    "df_melted_genres = pd.melt(imdb_genres, id_vars=['tconst'], value_vars=[\"genre\", \"genre2\", \"genre3\"],\n",
    "                    var_name='Spalte', value_name='Genre')\n",
    "\n",
    "df_melted_genres = df_melted_genres[[\"tconst\",\"Genre\"]]\n",
    "df_melted_genres.head(3)\n",
    "\n",
    "df_genres = df_melted_genres\n",
    "\n",
    "df_genres.columns = df_genres.columns.str.lower()"
   ]
  },
  {
   "cell_type": "markdown",
   "metadata": {},
   "source": [
    "## Transposing directors"
   ]
  },
  {
   "cell_type": "code",
   "execution_count": 49,
   "metadata": {},
   "outputs": [],
   "source": [
    "imdb_directors = imdb_df[[\"tconst\", \"director_name\", \"director2_name\", \"director3_name\"]]\n",
    "\n",
    "df_melted_directors = pd.melt(imdb_directors, id_vars=['tconst'], value_vars=[\"director_name\", \"director2_name\", \"director3_name\"],\n",
    "                    var_name='Spalte', value_name='Director')\n",
    "\n",
    "df_melted_directors = df_melted_directors[[\"tconst\",\"Director\"]]\n",
    "df_melted_directors.head(3)\n",
    "\n",
    "df_directors = df_melted_directors\n",
    "\n",
    "df_directors.columns = df_directors.columns.str.lower()"
   ]
  },
  {
   "cell_type": "markdown",
   "metadata": {},
   "source": [
    "## Transposing writers"
   ]
  },
  {
   "cell_type": "code",
   "execution_count": 50,
   "metadata": {},
   "outputs": [],
   "source": [
    "imdb_writers = imdb_df[[\"tconst\", \"writer_name\", \"writer2_name\", \"writer3_name\"]]\n",
    "\n",
    "df_melted_writers = pd.melt(imdb_writers, id_vars=['tconst'], value_vars=[\"writer_name\", \"writer2_name\", \"writer3_name\"],\n",
    "                    var_name='Spalte', value_name='Writer')\n",
    "\n",
    "df_melted_writers = df_melted_writers[[\"tconst\",\"Writer\"]]\n",
    "df_melted_writers.head(3)\n",
    "\n",
    "df_writers = df_melted_writers\n",
    "\n",
    "df_writers.columns = df_writers.columns.str.lower()"
   ]
  },
  {
   "cell_type": "markdown",
   "metadata": {},
   "source": [
    "## Display all to check"
   ]
  },
  {
   "cell_type": "code",
   "execution_count": null,
   "metadata": {},
   "outputs": [],
   "source": [
    "display(df_actors)\n",
    "display(df_genres)\n",
    "display(df_directors)\n",
    "display(df_writers)"
   ]
  },
  {
   "cell_type": "markdown",
   "metadata": {},
   "source": [
    "## Upload"
   ]
  },
  {
   "cell_type": "code",
   "execution_count": 53,
   "metadata": {},
   "outputs": [
    {
     "data": {
      "text/plain": [
       "'capstone_24_4_group1'"
      ]
     },
     "execution_count": 53,
     "metadata": {},
     "output_type": "execute_result"
    }
   ],
   "source": [
    "schema"
   ]
  },
  {
   "cell_type": "code",
   "execution_count": 55,
   "metadata": {},
   "outputs": [],
   "source": [
    "dataframes = {\n",
    "    \"actors\":df_actors,\n",
    "    \"genres\":df_genres,\n",
    "    \"directors\":df_directors,\n",
    "    \"writers\":df_writers,\n",
    "}"
   ]
  },
  {
   "cell_type": "code",
   "execution_count": 59,
   "metadata": {},
   "outputs": [
    {
     "name": "stdout",
     "output_type": "stream",
     "text": [
      "The actors table was imported successfully.\n",
      "The genres table was imported successfully.\n",
      "The directors table was imported successfully.\n",
      "The writers table was imported successfully.\n"
     ]
    }
   ],
   "source": [
    "# table_name = 'eu_merged'\n",
    "engine = sqlf.get_engine()\n",
    "engine\n",
    "# Write records stored in a dataframe to SQL database\n",
    "if engine != None:\n",
    "    try:\n",
    "        for table_name, df in dataframes.items():\n",
    "            df.to_sql(table_name, # Name of SQL table\n",
    "                            con=engine, # Engine or connection\n",
    "                            if_exists='replace', # Drop the table before inserting new values \n",
    "                            schema=schema, # your class schema\n",
    "                            index=False, # Write DataFrame index as a column\n",
    "                            chunksize=5000, # Specify the number of rows in each batch to be written at a time\n",
    "                            method='multi') # Pass multiple values in a single INSERT clause\n",
    "            print(f\"The {table_name} table was imported successfully.\")\n",
    "    # Error handling\n",
    "    except (Exception, psycopg2.DatabaseError) as error:\n",
    "        print(error)\n",
    "        engine = None\n",
    "else:\n",
    "    print(\"nope\") "
   ]
  }
 ],
 "metadata": {
  "kernelspec": {
   "display_name": "nf_capstone",
   "language": "python",
   "name": "python3"
  },
  "language_info": {
   "codemirror_mode": {
    "name": "ipython",
    "version": 3
   },
   "file_extension": ".py",
   "mimetype": "text/x-python",
   "name": "python",
   "nbconvert_exporter": "python",
   "pygments_lexer": "ipython3",
   "version": "3.9.19"
  }
 },
 "nbformat": 4,
 "nbformat_minor": 2
}
